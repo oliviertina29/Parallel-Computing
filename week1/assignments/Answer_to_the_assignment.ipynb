{
 "cells": [
  {
   "cell_type": "markdown",
   "metadata": {},
   "source": [
    "#  Equipe :\n",
    "TINA Djara Olivier\n",
    "\n",
    "DJOSSOU Djidjoho Isidore Borel"
   ]
  },
  {
   "cell_type": "code",
   "execution_count": 2,
   "metadata": {},
   "outputs": [],
   "source": [
    "import numpy as np"
   ]
  },
  {
   "cell_type": "code",
   "execution_count": 3,
   "metadata": {},
   "outputs": [],
   "source": [
    "def count_divisors(n):\n",
    "    count = 0\n",
    "    d = 1\n",
    "    while d <= n :\n",
    "        if n % d == 0 :\n",
    "            count += 1\n",
    "        d += 1\n",
    "    return count"
   ]
  },
  {
   "cell_type": "code",
   "execution_count": 4,
   "metadata": {},
   "outputs": [
    {
     "name": "stdout",
     "output_type": "stream",
     "text": [
      "CPU times: user 3.83 s, sys: 5 ms, total: 3.84 s\n",
      "Wall time: 3.87 s\n"
     ]
    },
    {
     "data": {
      "text/plain": [
       "80"
      ]
     },
     "execution_count": 4,
     "metadata": {},
     "output_type": "execute_result"
    }
   ],
   "source": [
    "n = 40000000\n",
    "%time count_divisors(n)"
   ]
  },
  {
   "cell_type": "code",
   "execution_count": 5,
   "metadata": {},
   "outputs": [],
   "source": [
    "def count_divisors_(n):\n",
    "    count = 0\n",
    "    d = 1\n",
    "    while d*d <= n :\n",
    "        if n % d == 0 :\n",
    "            count += 1 if n / d == d else 2\n",
    "        d += 1\n",
    "    return count"
   ]
  },
  {
   "cell_type": "code",
   "execution_count": 6,
   "metadata": {},
   "outputs": [
    {
     "name": "stdout",
     "output_type": "stream",
     "text": [
      "CPU times: user 854 µs, sys: 0 ns, total: 854 µs\n",
      "Wall time: 858 µs\n"
     ]
    },
    {
     "data": {
      "text/plain": [
       "80"
      ]
     },
     "execution_count": 6,
     "metadata": {},
     "output_type": "execute_result"
    }
   ],
   "source": [
    "%time count_divisors_(n)"
   ]
  },
  {
   "cell_type": "markdown",
   "metadata": {},
   "source": [
    "# Introduction\n",
    "### 1) Describe solution 1\n",
    "This function *count_divisors(n)* takes an integer n as input and counts the number of divisors of n. It initializes a variable count to 0 and a variable d to 1. Then, it iterates over all integers from 1 to n (inclusive) using a while loop and checks if each integer divides n evenly using the modulo operator. If so, it increments the count variable. Finally, the function returns the value of count.\n",
    "\n",
    "### 2) Describe solution 2\n",
    "This *function count_divisors_(n)* takes an integer n as input and counts the number of divisors of n. It initializes a variable count to 0 and a variable d to 1. Then, it iterates over all integers from 1 to the square root of n (inclusive), i.e., as long as d*d <= n, using a while loop.\n",
    "\n",
    "For each integer d, it checks if it is a divisor of n using the modulo operator. If d is a divisor of n, it increments the count variable by 1. Additionally, if n divided by d is not equal to d, then n has another divisor n/d, so it increments count by 2.\n",
    "\n",
    "Finally, the function returns the value of count. This approach is faster than the first function because it only checks for divisors up to the square root of n, which is sufficient to count all divisors of n.\n",
    "\n",
    "### 3) Comparaison between the two programs\n",
    "We noticed that for a small value of n. The two programs have almost the same execution time. But, when the value of n increase, we can observe a big differnce between the two programs in term of exection time.\n",
    "\n",
    "### 4) The number of operations executed by each program\n",
    "- count_divisors(n) executes approximately 2n operations.\n",
    "- count_divisors_(n) executes approximately 2sqrt(n) operations for non-perfect squares, and approximately 2sqrt(n) operations for perfect squares."
   ]
  },
  {
   "cell_type": "markdown",
   "metadata": {},
   "source": [
    "# Big-O notation\n",
    "### 1)$ T(n) = 3n^3 + 2n^2 + \\frac{1}{2}n + 7$ Prove that $T(n) = O(n^3)$\n",
    "\n",
    "To prove that $T(n) = O(n^3)$, we need to find positive constants $c$ and $n_0$ such that $T(n) \\leq cn^3$ for all $n \\geq n_0$.\n",
    "\n",
    "Let $c = 4$ and $n_0 = 1$. Then for all $n \\geq n_0 = 1$:\n",
    "\n",
    "\\begin{align*}\n",
    "T(n) &= 3n^3 + 2n^2 + \\frac{1}{2}n + 7 \\\n",
    "&\\leq 3n^3 + 2n^3 + \\frac{1}{2}n^3 + 7n^3 \\quad \\text{(since } n \\geq 1 \\text{)} \\\n",
    "&= 12n^3 \\\n",
    "&= cn^3\n",
    "\\end{align*}\n",
    "\n",
    "Therefore, we have shown that $T(n) \\leq cn^3$ for all $n \\geq n_0$, where $c = 4$ and $n_0 = 1$, which implies that $T(n) = O(n^3)$.\n",
    "\n",
    "### 2) Prove that : $\\forall k \\geq 1 , n^k $ is not $O(n^{k-1})$\n",
    "\n",
    "Suppose that $\\forall k \\geq 1, n^k$ is $O(n^{k-1})$. By definition, this means that there exist constants $c$ and $n_0$ such that for all $n \\geq n_0$, we have $n^k \\leq c\\cdot n^{k-1}$.\n",
    "\n",
    "Dividing both sides by $n^{k-1}$, we get $n \\leq c$ for all $n \\geq n_0$. But this is a contradiction, since $n$ can be arbitrarily large and $c$ is a constant.\n",
    "\n",
    "Therefore, we have shown that $\\forall k \\geq 1, n^k$ is not $O(n^{k-1})$."
   ]
  },
  {
   "cell_type": "markdown",
   "metadata": {},
   "source": [
    "# Merge sort\n",
    "### 1) Given two sorted arrays, write a func.on (with a language of your choice) that merge the two arrays into a single sorted array."
   ]
  },
  {
   "cell_type": "code",
   "execution_count": 7,
   "metadata": {},
   "outputs": [],
   "source": [
    "def merge(A, B):\n",
    "    i, j = 0, 0\n",
    "    C = []\n",
    "    \n",
    "    while i < len(A) and j < len(B):\n",
    "        if A[i] <= B[j]:\n",
    "            C.append(A[i])\n",
    "            i += 1\n",
    "        else:\n",
    "            C.append(B[j])\n",
    "            j += 1\n",
    "    \n",
    "    while i < len(A):\n",
    "        C.append(A[i])\n",
    "        i += 1\n",
    "    \n",
    "    while j < len(B):\n",
    "        C.append(B[j])\n",
    "        j += 1\n",
    "    \n",
    "    return C\n"
   ]
  },
  {
   "cell_type": "code",
   "execution_count": 8,
   "metadata": {},
   "outputs": [
    {
     "name": "stdout",
     "output_type": "stream",
     "text": [
      "[ 2  4  6  8 10]\n",
      "[1 3 5 7 9]\n"
     ]
    }
   ],
   "source": [
    "A = np.array([2, 4, 6, 8, 10])\n",
    "B = np.array([1, 3, 5, 7, 9])\n",
    "print(A)\n",
    "print(B)"
   ]
  },
  {
   "cell_type": "code",
   "execution_count": 9,
   "metadata": {},
   "outputs": [
    {
     "data": {
      "text/plain": [
       "[1, 2, 3, 4, 5, 6, 7, 8, 9, 10]"
      ]
     },
     "execution_count": 9,
     "metadata": {},
     "output_type": "execute_result"
    }
   ],
   "source": [
    "merge(A, B)"
   ]
  },
  {
   "cell_type": "markdown",
   "metadata": {},
   "source": [
    "### 2) Analyse the complexity of your func.on using Big-O notation.\n",
    "La complexité de la fonction merge dépend du nombre d'éléments dans les tableaux d'entrée A et B. Le pire des cas se produit lorsque les tableaux ont la même taille n, car chaque élément doit être comparé avec chaque autre élément.\n",
    "\n",
    "La boucle while qui fusionne les tableaux a une complexité de O(n), car elle doit examiner chaque élément des deux tableaux. Les deux boucles while qui ajoutent les éléments restants de A et de B ont une complexité de O(n), car elles doivent parcourir les éléments restants des tableaux.\n",
    "\n",
    "Par conséquent, la complexité totale de la fonction merge est de O(n), où n est la taille des tableaux d'entrée. Cela signifie que le temps d'exécution de la fonction merge croît linéairement avec le nombre d'éléments dans les tableaux d'entrée."
   ]
  },
  {
   "cell_type": "markdown",
   "metadata": {},
   "source": [
    "# The master method\n",
    "### 1) Using the master method analyse the complexity of merge sort.\n",
    "Merge sort reccurence satisfy the 2nd case of master theorem. Merge sort time complexity $T(n) = O(n^k*log n) = O(n^1*log n) = O(nlog n)$\n",
    "\n",
    "### 2) Using the master method analyse the complexity of binary search\n",
    "Binary search satisfy the 2nd case of master theorem. Merge sort time complexity $T(n) = O(n^k*log n) = O(n^0*log n) = O(log n)$\n"
   ]
  },
  {
   "cell_type": "markdown",
   "metadata": {},
   "source": [
    "# Matrix multiplication\n",
    "### 1) Write a func.on using python3 that mul.ply two matrices A,B (without the use of numpy or any external library)."
   ]
  },
  {
   "cell_type": "code",
   "execution_count": 10,
   "metadata": {},
   "outputs": [],
   "source": [
    "def matrix_multiplication(A, B):\n",
    "    m, n = A.shape\n",
    "    nB = B.shape[1]\n",
    "    res = np.zeros((m, nB))\n",
    "    for i in range(m):\n",
    "        for j in range(nB):\n",
    "            for k in range(n):\n",
    "                res[i][j] += A[i][k] * B[k][j]\n",
    "    return res"
   ]
  },
  {
   "cell_type": "markdown",
   "metadata": {},
   "source": [
    "### 2) What’s the complexity of your algorithm (using big-O notation)?\n",
    "The complexity of this algorithm is $O(n^3)$ because there are three nested loops."
   ]
  },
  {
   "cell_type": "markdown",
   "metadata": {},
   "source": [
    "### 3) Write the same function in C. (bonus)"
   ]
  },
  {
   "cell_type": "code",
   "execution_count": null,
   "metadata": {
    "vscode": {
     "languageId": "perl"
    }
   },
   "outputs": [],
   "source": [
    "#include <stdio.h>\n",
    "#include <stdlib.h>\n",
    "\n",
    "int** matrix_multiplication(int** A, int** B, int m, int n, int nB) {\n",
    "    int i, j, k;\n",
    "    int** res = (int**)malloc(m * sizeof(int*));\n",
    "    for (i = 0; i < m; i++) {\n",
    "        res[i] = (int*)malloc(nB * sizeof(int));\n",
    "        for (j = 0; j < nB; j++) {\n",
    "            res[i][j] = 0;\n",
    "            for (k = 0; k < n; k++) {\n",
    "                res[i][j] += A[i][k] * B[k][j];\n",
    "            }\n",
    "        }\n",
    "    }\n",
    "    return res;\n",
    "}"
   ]
  },
  {
   "cell_type": "markdown",
   "metadata": {},
   "source": [
    "### 4) Optimize this multiplication and describe each step of your optimization."
   ]
  },
  {
   "cell_type": "code",
   "execution_count": 37,
   "metadata": {},
   "outputs": [],
   "source": [
    "def matrix_multiplication_optimized(A, B):\n",
    "    m, n = len(A), len(A[0])\n",
    "    nB = len(B[0])\n",
    "    BT = list(map(list, zip(*B)))  # transpose matrix B\n",
    "    res = [[0] * nB for _ in range(m)]\n",
    "    \n",
    "    for i in range(0, m, 4):  # loop unrolling with step 4\n",
    "        for j in range(0, nB, 4):\n",
    "            for k in range(0, n, 4):\n",
    "                # manually perform loop iterations\n",
    "                res[i][j] += A[i][k] * BT[j][k]\n",
    "                res[i][j+1] += A[i][k] * BT[j+1][k]\n",
    "                res[i][j+2] += A[i][k] * BT[j+2][k]\n",
    "                res[i][j+3] += A[i][k] * BT[j+3][k]\n",
    "                res[i+1][j] += A[i+1][k] * BT[j][k]\n",
    "                res[i+1][j+1] += A[i+1][k] * BT[j+1][k]\n",
    "                res[i+1][j+2] += A[i+1][k] * BT[j+2][k]\n",
    "                res[i+1][j+3] += A[i+1][k] * BT[j+3][k]\n",
    "                res[i+2][j] += A[i+2][k] * BT[j][k]\n",
    "                res[i+2][j+1] += A[i+2][k] * BT[j+1][k]\n",
    "                res[i+2][j+2] += A[i+2][k] * BT[j+2][k]\n",
    "                res[i+2][j+3] += A[i+2][k] * BT[j+3][k]\n",
    "                res[i+3][j] += A[i+3][k] * BT[j][k]\n",
    "                res[i+3][j+1] += A[i+3][k] * BT[j+1][k]\n",
    "                res[i+3][j+2] += A[i+3][k] * BT[j+2][k]\n",
    "                res[i+3][j+3] += A[i+3][k] * BT[j+3][k]\n",
    "                \n",
    "    return res\n"
   ]
  },
  {
   "cell_type": "markdown",
   "metadata": {},
   "source": [
    "In this optimized version, we use loop unrolling with a step of 4, which means that we manually perform 4 iterations of the innermost loop at a time. We also transpose matrix B to improve cache performance, as accessing elements of a transposed matrix in a row-major order is more cache-friendly. Finally, we use indexing instead of the append() method to update the elements of the result matrix.\n",
    "\n",
    "These optimizations can lead to significant performance improvements, especially for large matrices."
   ]
  },
  {
   "cell_type": "markdown",
   "metadata": {},
   "source": [
    "# Quiz"
   ]
  },
  {
   "cell_type": "markdown",
   "metadata": {},
   "source": [
    "### 1) What will be the time complexity for the following fragment of code?"
   ]
  },
  {
   "cell_type": "code",
   "execution_count": 42,
   "metadata": {},
   "outputs": [],
   "source": [
    "C = 10 \n",
    "B = 0\n",
    "for i in range (n):\n",
    "    B += i*C"
   ]
  },
  {
   "cell_type": "markdown",
   "metadata": {},
   "source": [
    "A) O(n)"
   ]
  },
  {
   "cell_type": "markdown",
   "metadata": {},
   "source": [
    "### 2) What will be the .me complexity for the following fragment of code?"
   ]
  },
  {
   "cell_type": "code",
   "execution_count": null,
   "metadata": {},
   "outputs": [],
   "source": [
    "i = 0\n",
    "while i < n :\n",
    "    i *= k"
   ]
  },
  {
   "cell_type": "markdown",
   "metadata": {},
   "source": [
    "D) $O(log_k n)$"
   ]
  },
  {
   "cell_type": "markdown",
   "metadata": {},
   "source": [
    "### 3) What will be the .me complexity for the following fragment of code?"
   ]
  },
  {
   "cell_type": "code",
   "execution_count": null,
   "metadata": {},
   "outputs": [],
   "source": [
    "for i in range(n): \n",
    "    for j in range(m):"
   ]
  },
  {
   "cell_type": "markdown",
   "metadata": {},
   "source": [
    "C) O(n*m)"
   ]
  },
  {
   "cell_type": "code",
   "execution_count": null,
   "metadata": {},
   "outputs": [],
   "source": []
  }
 ],
 "metadata": {
  "kernelspec": {
   "display_name": "Python 3 (ipykernel)",
   "language": "python",
   "name": "python3"
  },
  "language_info": {
   "codemirror_mode": {
    "name": "ipython",
    "version": 3
   },
   "file_extension": ".py",
   "mimetype": "text/x-python",
   "name": "python",
   "nbconvert_exporter": "python",
   "pygments_lexer": "ipython3",
   "version": "3.9.16"
  }
 },
 "nbformat": 4,
 "nbformat_minor": 2
}
