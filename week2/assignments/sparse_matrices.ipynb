{
 "cells": [
  {
   "cell_type": "markdown",
   "id": "aea03da3",
   "metadata": {},
   "source": [
    "In this assignement, feel free to use the `sparse` module from `scipy`."
   ]
  },
  {
   "cell_type": "markdown",
   "id": "2df42bcc",
   "metadata": {},
   "source": [
    "Use the cell below for your imports."
   ]
  },
  {
   "cell_type": "code",
   "execution_count": 12,
   "id": "e9644e55",
   "metadata": {},
   "outputs": [],
   "source": [
    "import numpy as np\n",
    "from scipy.sparse import coo_matrix\n",
    "import scipy.sparse as sp\n",
    "from scipy.sparse.linalg import spsolve\n",
    "import scipy.sparse.linalg"
   ]
  },
  {
   "cell_type": "markdown",
   "id": "8948a816",
   "metadata": {},
   "source": [
    "implement the function `mat_mul_coo` that takes two sparse matrices in `coo` and returns their product."
   ]
  },
  {
   "cell_type": "code",
   "execution_count": 13,
   "id": "6047ee0e",
   "metadata": {},
   "outputs": [],
   "source": [
    "def mat_mul_coo(A, B):\n",
    "    if A.shape[1] != B.shape[0]:\n",
    "        raise ValueError(\"Matrix shapes are not compatible for multiplication\")\n",
    "\n",
    "    A = coo_matrix(A)\n",
    "    B = coo_matrix(B)\n",
    "\n",
    "    A = A.tocsr()\n",
    "    B = B.tocsc()\n",
    "\n",
    "    result_data = []\n",
    "    result_row = []\n",
    "    result_col = []\n",
    "\n",
    "    for i in range(A.shape[0]):\n",
    "        row = A.getrow(i)\n",
    "        for j in range(B.shape[1]):\n",
    "            col = B.getcol(j)\n",
    "            dot_product = row.dot(col).sum()\n",
    "            if dot_product != 0:\n",
    "                result_data.append(dot_product)\n",
    "                result_row.append(i)\n",
    "                result_col.append(j)\n",
    "\n",
    "    result = coo_matrix((result_data, (result_row, result_col)), shape=(A.shape[0], B.shape[1]))\n",
    "\n",
    "    return result\n"
   ]
  },
  {
   "cell_type": "code",
   "execution_count": 14,
   "id": "d389ecaf",
   "metadata": {},
   "outputs": [
    {
     "name": "stdout",
     "output_type": "stream",
     "text": [
      "  (0, 0)\t1\n",
      "  (0, 2)\t2\n",
      "  (1, 0)\t6\n",
      "  (1, 1)\t8\n",
      "  (1, 3)\t10\n",
      "  (2, 0)\t18\n",
      "  (2, 1)\t21\n",
      "  (2, 2)\t24\n",
      "  (2, 3)\t27\n",
      "  (2, 4)\t30\n",
      "  (2, 5)\t33\n",
      "  (2, 6)\t36\n"
     ]
    }
   ],
   "source": [
    "# Matrix A: a 3x3 matrix with a non-zero diagonal\n",
    "data = [1, 2, 3]\n",
    "row = [0, 1, 2]\n",
    "col = [0, 1, 2]\n",
    "A = sp.coo_matrix((data, (row, col)), shape=(3, 3))\n",
    "\n",
    "# Matrix B: a 3x4 matrix with random values\n",
    "data = [1, 2, 3, 4, 5, 6, 7, 8, 9, 10, 11, 12]\n",
    "row = [0, 0, 1, 1, 1, 2, 2, 2, 2, 2, 2, 2]\n",
    "col = [0, 2, 0, 1, 3, 0, 1, 2, 3, 4, 5, 6]\n",
    "B = sp.coo_matrix((data, (row, col)), shape=(3, 7))\n",
    "\n",
    "print(mat_mul_coo(A, B))"
   ]
  },
  {
   "cell_type": "markdown",
   "id": "4a626dec",
   "metadata": {},
   "source": [
    "implement the function `mat_mul_csr` that takes two sparse matrices in `csr` format and returns their product."
   ]
  },
  {
   "cell_type": "code",
   "execution_count": 15,
   "id": "23afa89e",
   "metadata": {},
   "outputs": [
    {
     "name": "stdout",
     "output_type": "stream",
     "text": [
      "  (0, 1)\t12\n",
      "  (1, 0)\t77\n",
      "  (1, 2)\t74\n"
     ]
    }
   ],
   "source": [
    "import numpy as np\n",
    "import scipy.sparse as sp\n",
    "\n",
    "def mat_mul_csr(A, B):\n",
    "    # transpose B to get the column data easily\n",
    "    B_transpose = B.transpose()\n",
    "    result_data = []\n",
    "    result_indices = []\n",
    "    result_indptr = [0]\n",
    "\n",
    "    for i in range(A.shape[0]):\n",
    "        row_start = A.indptr[i]\n",
    "        row_end = A.indptr[i + 1]\n",
    "        row_data = A.data[row_start:row_end]\n",
    "        row_indices = A.indices[row_start:row_end]\n",
    "\n",
    "        for j in range(B_transpose.shape[0]):\n",
    "            col_start = B_transpose.indptr[j]\n",
    "            col_end = B_transpose.indptr[j + 1]\n",
    "            col_data = B_transpose.data[col_start:col_end]\n",
    "            col_indices = B_transpose.indices[col_start:col_end]\n",
    "\n",
    "            if row_end - row_start == col_end - col_start:\n",
    "                dot_product = np.inner(row_data, col_data)\n",
    "\n",
    "                if dot_product != 0:\n",
    "                    result_data.append(dot_product)\n",
    "                    result_indices.append(j)\n",
    "        \n",
    "        result_indptr.append(len(result_data))\n",
    "\n",
    "    return sp.csr_matrix((result_data, result_indices, result_indptr), shape=(A.shape[0], B.shape[1]))\n",
    "\n",
    "# testing the function with an example\n",
    "data = [1, 2, 3, 4, 5, 6, 7, 8, 9]\n",
    "row = [0, 0, 1, 1, 1, 2, 2, 2, 2]\n",
    "col = [0, 2, 0, 1, 3, 0, 1, 2, 3]\n",
    "A = sp.csr_matrix((data, (row, col)), shape=(3, 4))\n",
    "B = sp.csr_matrix(np.random.randint(low=0, high=10, size=(4, 3)))\n",
    "print(mat_mul_csr(A, B))"
   ]
  },
  {
   "cell_type": "markdown",
   "id": "9592a90b",
   "metadata": {},
   "source": [
    "implement a function `solve_lin_sys` that takes a matrix `A` in `csr` format and a vector `b` as a numpy array and solves the system `Ax = b`."
   ]
  },
  {
   "cell_type": "code",
   "execution_count": 5,
   "id": "b6efe852",
   "metadata": {},
   "outputs": [],
   "source": [
    "def solve_lin_sys(A, b):\n",
    "    if A.shape[0] != A.shape[1]:\n",
    "        raise ValueError(\"Matrix is not square\")\n",
    "    if A.shape[0] != b.shape[0]:\n",
    "        raise ValueError(\"Matrix and vector shapes are not compatible\")\n",
    "\n",
    "    lu_factorization = scipy.sparse.linalg.splu(A)\n",
    "    x = lu_factorization.solve(b)\n",
    "\n",
    "    return x"
   ]
  },
  {
   "cell_type": "code",
   "execution_count": 6,
   "id": "43dfd2f3",
   "metadata": {},
   "outputs": [
    {
     "name": "stdout",
     "output_type": "stream",
     "text": [
      "[-0.33333333  0.66666667  0.75      ]\n"
     ]
    },
    {
     "name": "stderr",
     "output_type": "stream",
     "text": [
      "/home/olivier/anaconda3/lib/python3.9/site-packages/scipy/sparse/linalg/_dsolve/linsolve.py:347: SparseEfficiencyWarning: splu converted its input to CSC format\n",
      "  warn('splu converted its input to CSC format', SparseEfficiencyWarning)\n"
     ]
    }
   ],
   "source": [
    "# create a sparse matrix in CSR format\n",
    "data = np.array([1, 2, 3, 4])\n",
    "row = np.array([0, 0, 1, 2])\n",
    "col = np.array([0, 1, 1, 2])\n",
    "A = sp.csr_matrix((data, (row, col)), shape=(3, 3))\n",
    "\n",
    "# create a vector\n",
    "b = np.array([1, 2, 3])\n",
    "\n",
    "x = solve_lin_sys(A, b)\n",
    "print(x)\n"
   ]
  },
  {
   "cell_type": "code",
   "execution_count": null,
   "id": "a83d633d",
   "metadata": {},
   "outputs": [],
   "source": []
  }
 ],
 "metadata": {
  "kernelspec": {
   "display_name": "Python 3 (ipykernel)",
   "language": "python",
   "name": "python3"
  },
  "language_info": {
   "codemirror_mode": {
    "name": "ipython",
    "version": 3
   },
   "file_extension": ".py",
   "mimetype": "text/x-python",
   "name": "python",
   "nbconvert_exporter": "python",
   "pygments_lexer": "ipython3",
   "version": "3.9.16"
  }
 },
 "nbformat": 4,
 "nbformat_minor": 5
}
