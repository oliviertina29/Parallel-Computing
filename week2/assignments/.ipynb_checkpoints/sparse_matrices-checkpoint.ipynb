{
 "cells": [
  {
   "cell_type": "markdown",
   "id": "aea03da3",
   "metadata": {},
   "source": [
    "In this assignement, feel free to use the `sparse` module from `scipy`."
   ]
  },
  {
   "cell_type": "markdown",
   "id": "2df42bcc",
   "metadata": {},
   "source": [
    "Use the cell below for your imports."
   ]
  },
  {
   "cell_type": "code",
   "execution_count": 36,
   "id": "e9644e55",
   "metadata": {},
   "outputs": [],
   "source": [
    "import numpy as np\n",
    "from scipy.sparse import coo_matrix\n",
    "import scipy.sparse as sp\n",
    "from scipy.sparse.linalg import spsolve\n",
    "import scipy.sparse as sp\n",
    "import scipy.sparse.linalg"
   ]
  },
  {
   "cell_type": "markdown",
   "id": "8948a816",
   "metadata": {},
   "source": [
    "implement the function `mat_mul_coo` that takes two sparse matrices in `coo` and returns their product."
   ]
  },
  {
   "cell_type": "code",
   "execution_count": 3,
   "id": "6047ee0e",
   "metadata": {},
   "outputs": [],
   "source": [
    "def mat_mul_coo(A, B):\n",
    "    if A.shape[1] != B.shape[0]:\n",
    "        raise ValueError(\"Matrix shapes are not compatible for multiplication\")\n",
    "\n",
    "    A = coo_matrix(A)\n",
    "    B = coo_matrix(B)\n",
    "\n",
    "    A = A.tocsr()\n",
    "    B = B.tocsc()\n",
    "\n",
    "    result_data = []\n",
    "    result_row = []\n",
    "    result_col = []\n",
    "\n",
    "    for i in range(A.shape[0]):\n",
    "        row = A.getrow(i)\n",
    "        for j in range(B.shape[1]):\n",
    "            col = B.getcol(j)\n",
    "            dot_product = row.dot(col).sum()\n",
    "            if dot_product != 0:\n",
    "                result_data.append(dot_product)\n",
    "                result_row.append(i)\n",
    "                result_col.append(j)\n",
    "\n",
    "    result = coo_matrix((result_data, (result_row, result_col)), shape=(A.shape[0], B.shape[1]))\n",
    "\n",
    "    return result\n"
   ]
  },
  {
   "cell_type": "code",
   "execution_count": 5,
   "id": "d389ecaf",
   "metadata": {},
   "outputs": [
    {
     "name": "stdout",
     "output_type": "stream",
     "text": [
      "  (0, 0)\t1\n",
      "  (0, 2)\t2\n",
      "  (1, 0)\t6\n",
      "  (1, 1)\t8\n",
      "  (1, 3)\t10\n",
      "  (2, 0)\t18\n",
      "  (2, 1)\t21\n",
      "  (2, 2)\t24\n",
      "  (2, 3)\t27\n",
      "  (2, 4)\t30\n",
      "  (2, 5)\t33\n",
      "  (2, 6)\t36\n"
     ]
    }
   ],
   "source": [
    "# Matrix A: a 3x3 matrix with a non-zero diagonal\n",
    "data = [1, 2, 3]\n",
    "row = [0, 1, 2]\n",
    "col = [0, 1, 2]\n",
    "A = sp.coo_matrix((data, (row, col)), shape=(3, 3))\n",
    "\n",
    "# Matrix B: a 3x4 matrix with random values\n",
    "data = [1, 2, 3, 4, 5, 6, 7, 8, 9, 10, 11, 12]\n",
    "row = [0, 0, 1, 1, 1, 2, 2, 2, 2, 2, 2, 2]\n",
    "col = [0, 2, 0, 1, 3, 0, 1, 2, 3, 4, 5, 6]\n",
    "B = sp.coo_matrix((data, (row, col)), shape=(3, 7))\n",
    "\n",
    "print(mat_mul_coo(A, B))"
   ]
  },
  {
   "cell_type": "markdown",
   "id": "4a626dec",
   "metadata": {},
   "source": [
    "implement the function `mat_mul_csr` that takes two sparse matrices in `csr` format and returns their product."
   ]
  },
  {
   "cell_type": "code",
   "execution_count": 40,
   "id": "c2e56fbd",
   "metadata": {},
   "outputs": [
    {
     "ename": "ValueError",
     "evalue": "shapes (1,) and (2,) not aligned: 1 (dim 0) != 2 (dim 0)",
     "output_type": "error",
     "traceback": [
      "\u001b[0;31m---------------------------------------------------------------------------\u001b[0m",
      "\u001b[0;31mValueError\u001b[0m                                Traceback (most recent call last)",
      "Cell \u001b[0;32mIn[40], line 47\u001b[0m\n\u001b[1;32m     44\u001b[0m col \u001b[38;5;241m=\u001b[39m [\u001b[38;5;241m0\u001b[39m, \u001b[38;5;241m2\u001b[39m, \u001b[38;5;241m0\u001b[39m, \u001b[38;5;241m1\u001b[39m, \u001b[38;5;241m3\u001b[39m, \u001b[38;5;241m0\u001b[39m, \u001b[38;5;241m1\u001b[39m, \u001b[38;5;241m2\u001b[39m, \u001b[38;5;241m3\u001b[39m, \u001b[38;5;241m4\u001b[39m, \u001b[38;5;241m5\u001b[39m, \u001b[38;5;241m6\u001b[39m]\n\u001b[1;32m     45\u001b[0m B \u001b[38;5;241m=\u001b[39m sp\u001b[38;5;241m.\u001b[39mcsr_matrix((data, (row, col)), shape\u001b[38;5;241m=\u001b[39m(\u001b[38;5;241m3\u001b[39m, \u001b[38;5;241m7\u001b[39m))\n\u001b[0;32m---> 47\u001b[0m \u001b[38;5;28mprint\u001b[39m(\u001b[43mmat_mul_csr\u001b[49m\u001b[43m(\u001b[49m\u001b[43mA\u001b[49m\u001b[43m,\u001b[49m\u001b[43m \u001b[49m\u001b[43mB\u001b[49m\u001b[43m)\u001b[49m)\n",
      "Cell \u001b[0;32mIn[40], line 23\u001b[0m, in \u001b[0;36mmat_mul_csr\u001b[0;34m(A, B)\u001b[0m\n\u001b[1;32m     20\u001b[0m col_data \u001b[38;5;241m=\u001b[39m B_transpose\u001b[38;5;241m.\u001b[39mdata[col_start:col_end]\n\u001b[1;32m     21\u001b[0m col_indices \u001b[38;5;241m=\u001b[39m B_transpose\u001b[38;5;241m.\u001b[39mindices[col_start:col_end]\n\u001b[0;32m---> 23\u001b[0m dot_product \u001b[38;5;241m=\u001b[39m \u001b[43mnp\u001b[49m\u001b[38;5;241;43m.\u001b[39;49m\u001b[43mdot\u001b[49m\u001b[43m(\u001b[49m\u001b[43mrow_data\u001b[49m\u001b[43m,\u001b[49m\u001b[43m \u001b[49m\u001b[43mcol_data\u001b[49m\u001b[38;5;241;43m.\u001b[39;49m\u001b[43mT\u001b[49m\u001b[43m)\u001b[49m \u001b[38;5;66;03m# dot product of row and column vectors\u001b[39;00m\n\u001b[1;32m     24\u001b[0m \u001b[38;5;28;01mif\u001b[39;00m dot_product \u001b[38;5;241m!=\u001b[39m \u001b[38;5;241m0\u001b[39m:\n\u001b[1;32m     25\u001b[0m     result_data\u001b[38;5;241m.\u001b[39mappend(dot_product)\n",
      "File \u001b[0;32m<__array_function__ internals>:180\u001b[0m, in \u001b[0;36mdot\u001b[0;34m(*args, **kwargs)\u001b[0m\n",
      "\u001b[0;31mValueError\u001b[0m: shapes (1,) and (2,) not aligned: 1 (dim 0) != 2 (dim 0)"
     ]
    }
   ],
   "source": [
    "def mat_mul_csr(A, B):\n",
    "    if A.shape[1] != B.shape[0]:\n",
    "        raise ValueError(\"Matrix shapes are not compatible for multiplication\")\n",
    "\n",
    "    result_data = []\n",
    "    result_indices = []\n",
    "    result_indptr = [0]\n",
    "\n",
    "    B_transpose = B.transpose()\n",
    "\n",
    "    for i in range(A.shape[0]):\n",
    "        row_start = A.indptr[i]\n",
    "        row_end = A.indptr[i + 1]\n",
    "        row_data = A.data[row_start:row_end]\n",
    "        row_indices = A.indices[row_start:row_end]\n",
    "\n",
    "        for j in range(B_transpose.shape[0]):\n",
    "            col_start = B_transpose.indptr[j]\n",
    "            col_end = B_transpose.indptr[j + 1]\n",
    "            col_data = B_transpose.data[col_start:col_end]\n",
    "            col_indices = B_transpose.indices[col_start:col_end]\n",
    "\n",
    "            dot_product = np.dot(row_data, col_data.T) # dot product of row and column vectors\n",
    "            if dot_product != 0:\n",
    "                result_data.append(dot_product)\n",
    "                result_indices.append(j)\n",
    "        \n",
    "        result_indptr.append(len(result_data))\n",
    "\n",
    "    result = sp.coo_matrix((result_data, (np.zeros(len(result_indices), dtype=np.int32), result_indices)), shape=(A.shape[0], B_transpose.shape[0]))\n",
    "    result = result.tocsr()\n",
    "\n",
    "    return result.dot(B).tocsr()\n",
    "\n",
    "# Matrix A: a 3x3 matrix with a non-zero diagonal\n",
    "data = [1, 2, 3]\n",
    "row = [0, 1, 2]\n",
    "col = [0, 1, 2]\n",
    "A = sp.csr_matrix((data, (row, col)), shape=(3, 3))\n",
    "\n",
    "# Matrix B: a 3x4 matrix with random values\n",
    "data = [1, 2, 3, 4, 5, 6, 7, 8, 9, 10, 11, 12]\n",
    "row = [0, 0, 1, 1, 1, 2, 2, 2, 2, 2, 2, 2]\n",
    "col = [0, 2, 0, 1, 3, 0, 1, 2, 3, 4, 5, 6]\n",
    "B = sp.csr_matrix((data, (row, col)), shape=(3, 7))\n",
    "\n",
    "print(mat_mul_csr(A, B))"
   ]
  },
  {
   "cell_type": "code",
   "execution_count": 29,
   "id": "f94c416f",
   "metadata": {},
   "outputs": [
    {
     "ename": "ValueError",
     "evalue": "shapes (1,) and (2,) not aligned: 1 (dim 0) != 2 (dim 0)",
     "output_type": "error",
     "traceback": [
      "\u001b[0;31m---------------------------------------------------------------------------\u001b[0m",
      "\u001b[0;31mValueError\u001b[0m                                Traceback (most recent call last)",
      "Cell \u001b[0;32mIn[29], line 52\u001b[0m\n\u001b[1;32m     49\u001b[0m col \u001b[38;5;241m=\u001b[39m [\u001b[38;5;241m0\u001b[39m, \u001b[38;5;241m2\u001b[39m, \u001b[38;5;241m0\u001b[39m, \u001b[38;5;241m1\u001b[39m, \u001b[38;5;241m3\u001b[39m, \u001b[38;5;241m0\u001b[39m, \u001b[38;5;241m1\u001b[39m, \u001b[38;5;241m2\u001b[39m, \u001b[38;5;241m3\u001b[39m, \u001b[38;5;241m4\u001b[39m, \u001b[38;5;241m5\u001b[39m, \u001b[38;5;241m6\u001b[39m]\n\u001b[1;32m     50\u001b[0m B \u001b[38;5;241m=\u001b[39m sp\u001b[38;5;241m.\u001b[39mcsr_matrix((data, (row, col)), shape\u001b[38;5;241m=\u001b[39m(\u001b[38;5;241m3\u001b[39m, \u001b[38;5;241m7\u001b[39m))\n\u001b[0;32m---> 52\u001b[0m \u001b[38;5;28mprint\u001b[39m(\u001b[43mmat_mul_csr\u001b[49m\u001b[43m(\u001b[49m\u001b[43mA\u001b[49m\u001b[43m,\u001b[49m\u001b[43m \u001b[49m\u001b[43mB\u001b[49m\u001b[43m)\u001b[49m)\n",
      "Cell \u001b[0;32mIn[29], line 27\u001b[0m, in \u001b[0;36mmat_mul_csr\u001b[0;34m(A, B)\u001b[0m\n\u001b[1;32m     24\u001b[0m col_data \u001b[38;5;241m=\u001b[39m B_transpose\u001b[38;5;241m.\u001b[39mdata[col_start:col_end]\n\u001b[1;32m     25\u001b[0m col_indices \u001b[38;5;241m=\u001b[39m B_transpose\u001b[38;5;241m.\u001b[39mindices[col_start:col_end]\n\u001b[0;32m---> 27\u001b[0m dot_product \u001b[38;5;241m=\u001b[39m \u001b[43mnp\u001b[49m\u001b[38;5;241;43m.\u001b[39;49m\u001b[43minner\u001b[49m\u001b[43m(\u001b[49m\u001b[43mrow_data\u001b[49m\u001b[38;5;241;43m.\u001b[39;49m\u001b[43mT\u001b[49m\u001b[43m,\u001b[49m\u001b[43m \u001b[49m\u001b[43mcol_data\u001b[49m\u001b[43m)\u001b[49m\n\u001b[1;32m     29\u001b[0m \u001b[38;5;28;01mif\u001b[39;00m dot_product \u001b[38;5;241m!=\u001b[39m \u001b[38;5;241m0\u001b[39m:\n\u001b[1;32m     30\u001b[0m     result_data\u001b[38;5;241m.\u001b[39mappend(dot_product)\n",
      "File \u001b[0;32m<__array_function__ internals>:180\u001b[0m, in \u001b[0;36minner\u001b[0;34m(*args, **kwargs)\u001b[0m\n",
      "\u001b[0;31mValueError\u001b[0m: shapes (1,) and (2,) not aligned: 1 (dim 0) != 2 (dim 0)"
     ]
    }
   ],
   "source": [
    "import numpy as np\n",
    "from scipy.sparse import coo_matrix\n",
    "import scipy.sparse as sp\n",
    "\n",
    "def mat_mul_csr(A, B):\n",
    "    if A.shape[1] != B.shape[0]:\n",
    "        raise ValueError(\"Matrix shapes are not compatible for multiplication\")\n",
    "\n",
    "    result_data = []\n",
    "    result_indices = []\n",
    "    result_indptr = [0]\n",
    "\n",
    "    B_transpose = B.transpose()\n",
    "\n",
    "    for i in range(A.shape[0]):\n",
    "        row_start = A.indptr[i]\n",
    "        row_end = A.indptr[i + 1]\n",
    "        row_data = A.data[row_start:row_end]\n",
    "        row_indices = A.indices[row_start:row_end]\n",
    "\n",
    "        for j in range(B_transpose.shape[0]):\n",
    "            col_start = B_transpose.indptr[j]\n",
    "            col_end = B_transpose.indptr[j + 1]\n",
    "            col_data = B_transpose.data[col_start:col_end]\n",
    "            col_indices = B_transpose.indices[col_start:col_end]\n",
    "\n",
    "            dot_product = np.inner(row_data.T, col_data)\n",
    "\n",
    "            if dot_product != 0:\n",
    "                result_data.append(dot_product)\n",
    "                result_indices.append(j)\n",
    "        \n",
    "        result_indptr.append(len(result_data))\n",
    "\n",
    "    result = coo_matrix((result_data, (np.zeros(len(result_indices), dtype=np.int32), result_indices)), shape=(A.shape[0], B_transpose.shape[0]))\n",
    "    result = result.tocsr()\n",
    "\n",
    "    return result.dot(B).tocsr()\n",
    "\n",
    "# Matrix A: a 3x3 matrix with a non-zero diagonal\n",
    "data = [1, 2, 3]\n",
    "row = [0, 1, 2]\n",
    "col = [0, 1, 2]\n",
    "A = sp.csr_matrix((data, (row, col)), shape=(3, 3))\n",
    "\n",
    "# Matrix B: a 3x4 matrix with random values\n",
    "data = [1, 2, 3, 4, 5, 6, 7, 8, 9, 10, 11, 12]\n",
    "row = [0, 0, 1, 1, 1, 2, 2, 2, 2, 2, 2, 2]\n",
    "col = [0, 2, 0, 1, 3, 0, 1, 2, 3, 4, 5, 6]\n",
    "B = sp.csr_matrix((data, (row, col)), shape=(3, 7))\n",
    "\n",
    "print(mat_mul_csr(A, B))"
   ]
  },
  {
   "cell_type": "markdown",
   "id": "9592a90b",
   "metadata": {},
   "source": [
    "implement a function `solve_lin_sys` that takes a matrix `A` in `csr` format and a vector `b` as a numpy array and solves the system `Ax = b`."
   ]
  },
  {
   "cell_type": "code",
   "execution_count": 37,
   "id": "b6efe852",
   "metadata": {},
   "outputs": [],
   "source": [
    "def solve_lin_sys(A, b):\n",
    "    if A.shape[0] != A.shape[1]:\n",
    "        raise ValueError(\"Matrix is not square\")\n",
    "    if A.shape[0] != b.shape[0]:\n",
    "        raise ValueError(\"Matrix and vector shapes are not compatible\")\n",
    "\n",
    "    lu_factorization = scipy.sparse.linalg.splu(A)\n",
    "    x = lu_factorization.solve(b)\n",
    "\n",
    "    return x"
   ]
  },
  {
   "cell_type": "code",
   "execution_count": 38,
   "id": "43dfd2f3",
   "metadata": {},
   "outputs": [
    {
     "name": "stdout",
     "output_type": "stream",
     "text": [
      "[-0.33333333  0.66666667  0.75      ]\n"
     ]
    }
   ],
   "source": [
    "# create a sparse matrix in CSR format\n",
    "data = np.array([1, 2, 3, 4])\n",
    "row = np.array([0, 0, 1, 2])\n",
    "col = np.array([0, 1, 1, 2])\n",
    "A = sp.csr_matrix((data, (row, col)), shape=(3, 3))\n",
    "\n",
    "# create a vector\n",
    "b = np.array([1, 2, 3])\n",
    "\n",
    "x = solve_lin_sys(A, b)\n",
    "print(x)\n"
   ]
  },
  {
   "cell_type": "code",
   "execution_count": null,
   "id": "a83d633d",
   "metadata": {},
   "outputs": [],
   "source": []
  }
 ],
 "metadata": {
  "kernelspec": {
   "display_name": "Python 3 (ipykernel)",
   "language": "python",
   "name": "python3"
  },
  "language_info": {
   "codemirror_mode": {
    "name": "ipython",
    "version": 3
   },
   "file_extension": ".py",
   "mimetype": "text/x-python",
   "name": "python",
   "nbconvert_exporter": "python",
   "pygments_lexer": "ipython3",
   "version": "3.9.16"
  }
 },
 "nbformat": 4,
 "nbformat_minor": 5
}
